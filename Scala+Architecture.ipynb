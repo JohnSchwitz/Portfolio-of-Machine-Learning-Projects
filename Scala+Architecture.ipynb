{
 "cells": [
  {
   "cell_type": "markdown",
   "metadata": {},
   "source": [
    "### Scala Strengths\n",
    "\n",
    "1) Functional language\n",
    "2) Strongly Typed\n",
    "3) Collection Library\n",
    "4) Favor expressions for composability\n",
    "5) Catagory Theory through Scalaz"
   ]
  },
  {
   "cell_type": "code",
   "execution_count": 1,
   "metadata": {},
   "outputs": [
    {
     "data": {
      "text/plain": [
       "\u001b[36mres0\u001b[39m: \u001b[32mInt\u001b[39m => \u001b[32mBoolean\u001b[39m = <function1>"
      ]
     },
     "execution_count": 1,
     "metadata": {},
     "output_type": "execute_result"
    }
   ],
   "source": [
    "// Lambda's\n",
    "// => (function arrow) syntactic sugar instance of function (instance of class)\n",
    "(i: Int) => i % 2 == 0"
   ]
  },
  {
   "cell_type": "code",
   "execution_count": 7,
   "metadata": {},
   "outputs": [
    {
     "data": {
      "text/plain": [
       "\u001b[36mfactor\u001b[39m: \u001b[32mInt\u001b[39m = \u001b[32m3\u001b[39m\n",
       "\u001b[36mres6_1\u001b[39m: \u001b[32mcollection\u001b[39m.\u001b[32mimmutable\u001b[39m.\u001b[32mIndexedSeq\u001b[39m[\u001b[32mInt\u001b[39m] = \u001b[33mVector\u001b[39m(\u001b[32m4\u001b[39m, \u001b[32m8\u001b[39m)\n",
       "\u001b[36mres6_3\u001b[39m: \u001b[32mcollection\u001b[39m.\u001b[32mimmutable\u001b[39m.\u001b[32mIndexedSeq\u001b[39m[\u001b[32mInt\u001b[39m] = \u001b[33mVector\u001b[39m(\u001b[32m6\u001b[39m, \u001b[32m12\u001b[39m)\n",
       "defined \u001b[32mfunction\u001b[39m \u001b[36mwhat_is_type\u001b[39m"
      ]
     },
     "execution_count": 7,
     "metadata": {},
     "output_type": "execute_result"
    }
   ],
   "source": [
    "// HIGHER ORDER FUNCTIONS\n",
    "// EXPRESSIONS COMPOSE\n",
    "// LAMBDAS\n",
    "// CLOSURE OVER FREE VARIABLE MULT\n",
    "// TYPES \n",
    "\n",
    "var factor = 2\n",
    "(1 to 5) filter (_ % 2 == 0) map (_ * factor) // Closure with free variable mult\n",
    "factor = 3\n",
    "(1 to 5) filter (_ % 2 == 0) map (_ * factor) // Uses free variable 3\n",
    "// Finding Type\n",
    "def what_is_type[T](v:T) = v"
   ]
  },
  {
   "cell_type": "code",
   "execution_count": 8,
   "metadata": {},
   "outputs": [
    {
     "data": {
      "text/plain": [
       "\u001b[36mnums\u001b[39m: \u001b[32mSeq\u001b[39m[\u001b[32mInt\u001b[39m] = \u001b[33mList\u001b[39m(\u001b[32m1\u001b[39m, \u001b[32m2\u001b[39m, \u001b[32m3\u001b[39m)\n",
       "\u001b[36mletters\u001b[39m: \u001b[32mSeq\u001b[39m[\u001b[32mChar\u001b[39m] = \u001b[33mList\u001b[39m(\u001b[32m'a'\u001b[39m, \u001b[32m'b'\u001b[39m, \u001b[32m'c'\u001b[39m)\n",
       "\u001b[36mres\u001b[39m: \u001b[32mSeq\u001b[39m[(\u001b[32mInt\u001b[39m, \u001b[32mChar\u001b[39m)] = \u001b[33mList\u001b[39m(\n",
       "  (\u001b[32m1\u001b[39m, \u001b[32m'a'\u001b[39m),\n",
       "  (\u001b[32m1\u001b[39m, \u001b[32m'b'\u001b[39m),\n",
       "  (\u001b[32m1\u001b[39m, \u001b[32m'c'\u001b[39m),\n",
       "  (\u001b[32m2\u001b[39m, \u001b[32m'a'\u001b[39m),\n",
       "  (\u001b[32m2\u001b[39m, \u001b[32m'b'\u001b[39m),\n",
       "  (\u001b[32m2\u001b[39m, \u001b[32m'c'\u001b[39m),\n",
       "  (\u001b[32m3\u001b[39m, \u001b[32m'a'\u001b[39m),\n",
       "  (\u001b[32m3\u001b[39m, \u001b[32m'b'\u001b[39m),\n",
       "  (\u001b[32m3\u001b[39m, \u001b[32m'c'\u001b[39m)\n",
       ")"
      ]
     },
     "execution_count": 8,
     "metadata": {},
     "output_type": "execute_result"
    }
   ],
   "source": [
    "//  For comprehensions are Syntactic Sugar for multiple operations such as\n",
    "//  foreach / map / flatmap / filter / withFilter\n",
    "//  flatmap example\n",
    "val nums = Seq(1,2,3)\n",
    "val letters = Seq('a', 'b', 'c')\n",
    "val res = for {\n",
    "    n <- nums\n",
    "    c <- letters\n",
    "} yield (n, c)"
   ]
  },
  {
   "cell_type": "code",
   "execution_count": 9,
   "metadata": {},
   "outputs": [
    {
     "data": {
      "text/plain": [
       "\u001b[36mres8_0\u001b[39m: () => \u001b[32mUnit\u001b[39m.type = <function0>\n",
       "\u001b[36mres8_1\u001b[39m: \u001b[32mInt\u001b[39m => \u001b[32mBoolean\u001b[39m = <function1>\n",
       "\u001b[36mres8_2\u001b[39m: (\u001b[32mDouble\u001b[39m, \u001b[32mDouble\u001b[39m) => \u001b[32mDouble\u001b[39m = <function2>\n",
       "defined \u001b[32mfunction\u001b[39m \u001b[36mmult\u001b[39m\n",
       "\u001b[36mres8_4\u001b[39m: \u001b[32mDouble\u001b[39m = \u001b[32m8.0\u001b[39m\n",
       "\u001b[36mpartial_Mult\u001b[39m: \u001b[32mDouble\u001b[39m => \u001b[32mDouble\u001b[39m = <function1>\n",
       "defined \u001b[32mfunction\u001b[39m \u001b[36mcurry_mult\u001b[39m\n",
       "\u001b[36mres8_7\u001b[39m: \u001b[32mDouble\u001b[39m => \u001b[32mDouble\u001b[39m = <function1>\n",
       "\u001b[36mres8_8\u001b[39m: \u001b[32mDouble\u001b[39m => \u001b[32mDouble\u001b[39m = <function1>\n",
       "\u001b[36mres8_9\u001b[39m: \u001b[32mDouble\u001b[39m = \u001b[32m8.0\u001b[39m"
      ]
     },
     "execution_count": 9,
     "metadata": {},
     "output_type": "execute_result"
    }
   ],
   "source": [
    "// FUNCTIONS / CURRYING / PARTIALLY APPLIED\n",
    "\n",
    "() => Unit\n",
    "(i: Int) => i % 2 == 0\n",
    "(x: Double, y: Double) => x * y\n",
    "def mult (x: Double, y: Double): Double = x * y // Funtion2\n",
    "mult(2,4)\n",
    "val partial_Mult = mult(10, _: Double)  // PARTIALLY APPLIED FUNCTION\n",
    "def curry_mult (x: Double) = (y: Double) => x * y  // Curry\n",
    "what_is_type(curry_mult(2))  // Double => Double = <funtion1>\n",
    "curry_mult(2)  // Requires another Double // Partially Applied\n",
    "curry_mult(2)(4)"
   ]
  },
  {
   "cell_type": "code",
   "execution_count": 10,
   "metadata": {},
   "outputs": [
    {
     "data": {
      "text/plain": [
       "\u001b[36mn\u001b[39m: \u001b[32mInt\u001b[39m = \u001b[32m42\u001b[39m\n",
       "\u001b[36mres9_1\u001b[39m: \u001b[32mInt\u001b[39m = \u001b[32m42\u001b[39m\n",
       "defined \u001b[32mfunction\u001b[39m \u001b[36mto_string\u001b[39m\n",
       "\u001b[36mres9_3\u001b[39m: \u001b[32mString\u001b[39m = \u001b[32m\"300\"\u001b[39m"
      ]
     },
     "execution_count": 10,
     "metadata": {},
     "output_type": "execute_result"
    }
   ],
   "source": [
    "// IMPLICITS\n",
    "\n",
    "implicit val n: Int = 42\n",
    "n\n",
    "implicit def to_string(n: Int): String = n.toString\n",
    "to_string(300)"
   ]
  },
  {
   "cell_type": "code",
   "execution_count": 11,
   "metadata": {},
   "outputs": [
    {
     "data": {
      "text/plain": [
       "\u001b[36memptyOption\u001b[39m: \u001b[32mNone\u001b[39m.type = None\n",
       "\u001b[36mnonEmptyOption\u001b[39m: \u001b[32mSome\u001b[39m[\u001b[32mString\u001b[39m] = \u001b[33mSome\u001b[39m(\u001b[32m\"value\"\u001b[39m)"
      ]
     },
     "execution_count": 11,
     "metadata": {},
     "output_type": "execute_result"
    }
   ],
   "source": [
    "// OPTIONS\n",
    "// A CONTAINER with either SOME or None elements\n",
    "val emptyOption = None\n",
    "val nonEmptyOption = Some(\"value\")"
   ]
  },
  {
   "cell_type": "code",
   "execution_count": 12,
   "metadata": {},
   "outputs": [
    {
     "data": {
      "text/plain": [
       "defined \u001b[32mfunction\u001b[39m \u001b[36mfactorial\u001b[39m\n",
       "\u001b[36mres11_1\u001b[39m: \u001b[32mInt\u001b[39m = \u001b[32m120\u001b[39m"
      ]
     },
     "execution_count": 12,
     "metadata": {},
     "output_type": "execute_result"
    }
   ],
   "source": [
    "// RECURSIVE FUNCTIONS\n",
    "// PATTERN MATCHING\n",
    "def factorial(n: Int): Int = n match {\n",
    "    case 0 => 1\n",
    "    case _ => n * factorial(n-1)\n",
    "}\n",
    "factorial(5)"
   ]
  },
  {
   "cell_type": "code",
   "execution_count": 13,
   "metadata": {},
   "outputs": [
    {
     "data": {
      "text/plain": [
       "defined \u001b[32mobject\u001b[39m \u001b[36minitialize_numbers\u001b[39m\n",
       "\u001b[36mres12_1\u001b[39m: \u001b[32mInt\u001b[39m = \u001b[32m10\u001b[39m"
      ]
     },
     "execution_count": 13,
     "metadata": {},
     "output_type": "execute_result"
    }
   ],
   "source": [
    "// SINGLETON\n",
    "object initialize_numbers {\n",
    "    def count_from(i: Int): Int = i\n",
    "}\n",
    "initialize_numbers.count_from(10)"
   ]
  },
  {
   "cell_type": "code",
   "execution_count": 14,
   "metadata": {},
   "outputs": [
    {
     "data": {
      "text/plain": [
       "\u001b[36maTuple\u001b[39m: (\u001b[32mInt\u001b[39m, \u001b[32mString\u001b[39m, \u001b[32mDouble\u001b[39m) = (\u001b[32m1\u001b[39m, \u001b[32m\"Two\"\u001b[39m, \u001b[32m3.0\u001b[39m)\n",
       "\u001b[36mres13_1\u001b[39m: \u001b[32mDouble\u001b[39m = \u001b[32m3.0\u001b[39m"
      ]
     },
     "execution_count": 14,
     "metadata": {},
     "output_type": "execute_result"
    }
   ],
   "source": [
    "// TUPLE\n",
    "val aTuple = (1, \"Two\", 3.0)\n",
    "aTuple._3"
   ]
  },
  {
   "cell_type": "code",
   "execution_count": 15,
   "metadata": {},
   "outputs": [
    {
     "data": {
      "text/plain": [
       "defined \u001b[32mfunction\u001b[39m \u001b[36mtwice\u001b[39m\n",
       "\u001b[36mres14_1\u001b[39m: \u001b[32mInt\u001b[39m = \u001b[32m10\u001b[39m"
      ]
     },
     "execution_count": 15,
     "metadata": {},
     "output_type": "execute_result"
    }
   ],
   "source": [
    "// BY NAME => evaluates at runtime\n",
    "def twice[A](a: =>  A) = {a; a}\n",
    "twice(10)"
   ]
  },
  {
   "cell_type": "code",
   "execution_count": 16,
   "metadata": {},
   "outputs": [
    {
     "data": {
      "text/plain": [
       "\u001b[36mx\u001b[39m: \u001b[32mList\u001b[39m[\u001b[32mInt\u001b[39m] = \u001b[33mList\u001b[39m(\u001b[32m0\u001b[39m, \u001b[32m1\u001b[39m, \u001b[32m2\u001b[39m, \u001b[32m3\u001b[39m, \u001b[32m4\u001b[39m)\n",
       "\u001b[36mx2\u001b[39m: \u001b[32mList\u001b[39m[\u001b[32mInt\u001b[39m] = \u001b[33mList\u001b[39m(\u001b[32m0\u001b[39m, \u001b[32m3\u001b[39m, \u001b[32m6\u001b[39m, \u001b[32m9\u001b[39m, \u001b[32m12\u001b[39m)\n",
       "\u001b[36mx3\u001b[39m: \u001b[32mList\u001b[39m[\u001b[32mInt\u001b[39m] = \u001b[33mList\u001b[39m(\u001b[32m0\u001b[39m, \u001b[32m3\u001b[39m, \u001b[32m6\u001b[39m, \u001b[32m9\u001b[39m, \u001b[32m12\u001b[39m)\n",
       "\u001b[36mx4\u001b[39m: \u001b[32mList\u001b[39m[\u001b[32mDouble\u001b[39m] = \u001b[33mList\u001b[39m(\u001b[32m0.0\u001b[39m, \u001b[32m0.1\u001b[39m, \u001b[32m0.2\u001b[39m, \u001b[32m0.30000000000000004\u001b[39m, \u001b[32m0.4\u001b[39m)\n",
       "\u001b[36mxv\u001b[39m: \u001b[32mVector\u001b[39m[\u001b[32mInt\u001b[39m] = \u001b[33mVector\u001b[39m(\u001b[32m0\u001b[39m, \u001b[32m1\u001b[39m, \u001b[32m2\u001b[39m, \u001b[32m3\u001b[39m, \u001b[32m4\u001b[39m)\n",
       "\u001b[36mxv2\u001b[39m: \u001b[32mVector\u001b[39m[\u001b[32mDouble\u001b[39m] = \u001b[33mVector\u001b[39m(\u001b[32m0.0\u001b[39m, \u001b[32m0.2\u001b[39m, \u001b[32m0.4\u001b[39m, \u001b[32m0.6000000000000001\u001b[39m, \u001b[32m0.8\u001b[39m)\n",
       "\u001b[36mxv3\u001b[39m: \u001b[32mVector\u001b[39m[\u001b[32mDouble\u001b[39m] = \u001b[33mVector\u001b[39m(\u001b[32m0.0\u001b[39m, \u001b[32m0.2\u001b[39m, \u001b[32m0.4\u001b[39m, \u001b[32m0.6000000000000001\u001b[39m, \u001b[32m0.8\u001b[39m)\n",
       "\u001b[36my\u001b[39m: \u001b[32mList\u001b[39m[\u001b[32mInt\u001b[39m] = \u001b[33mList\u001b[39m(\u001b[32m0\u001b[39m, \u001b[32m2\u001b[39m, \u001b[32m4\u001b[39m, \u001b[32m6\u001b[39m, \u001b[32m8\u001b[39m, \u001b[32m10\u001b[39m, \u001b[32m12\u001b[39m)\n",
       "\u001b[36mxy\u001b[39m: \u001b[32mList\u001b[39m[\u001b[32mInt\u001b[39m] = \u001b[33mList\u001b[39m(\n",
       "  \u001b[32m0\u001b[39m,\n",
       "  \u001b[32m0\u001b[39m,\n",
       "  \u001b[32m0\u001b[39m,\n",
       "  \u001b[32m0\u001b[39m,\n",
       "  \u001b[32m0\u001b[39m,\n",
       "  \u001b[32m0\u001b[39m,\n",
       "  \u001b[32m0\u001b[39m,\n",
       "  \u001b[32m0\u001b[39m,\n",
       "  \u001b[32m2\u001b[39m,\n",
       "  \u001b[32m4\u001b[39m,\n",
       "  \u001b[32m6\u001b[39m,\n",
       "\u001b[33m...\u001b[39m\n",
       "\u001b[36mxy2\u001b[39m: \u001b[32mList\u001b[39m[\u001b[32mInt\u001b[39m] = \u001b[33mList\u001b[39m(\n",
       "  \u001b[32m0\u001b[39m,\n",
       "  \u001b[32m0\u001b[39m,\n",
       "  \u001b[32m0\u001b[39m,\n",
       "  \u001b[32m0\u001b[39m,\n",
       "  \u001b[32m0\u001b[39m,\n",
       "  \u001b[32m0\u001b[39m,\n",
       "  \u001b[32m0\u001b[39m,\n",
       "  \u001b[32m0\u001b[39m,\n",
       "  \u001b[32m2\u001b[39m,\n",
       "  \u001b[32m4\u001b[39m,\n",
       "  \u001b[32m6\u001b[39m,\n",
       "\u001b[33m...\u001b[39m"
      ]
     },
     "execution_count": 16,
     "metadata": {},
     "output_type": "execute_result"
    }
   ],
   "source": [
    "// CATEGORY THEORY\n",
    "// https://darrenjw.wordpress.com/2016/04/15/first-steps-with-monads-in-scala/\n",
    "\n",
    "val x = (0 to 4).toList\n",
    "val x2 = x map {x => x * 3}\n",
    "val x3 = x map {_ * 3}\n",
    "val x4 = x map {_ * 0.1}  // List[T] converted to List[S]\n",
    "\n",
    "// Now VECTORS\n",
    "val xv = x.toVector\n",
    "val xv2 = xv map {_ * 0.2}\n",
    "val xv3 = for (xi <- xv) yield (xi * 0.2)\n",
    "\n",
    "// DEMONSTRATES FUNCTOR (type class)\n",
    "// trait F[T] {\n",
    "//    def map(f: T => S):F[S]\n",
    "// }\n",
    "\n",
    "// DEMONSTRATES MONAD\n",
    "val y = (0 to 12 by 2).toList\n",
    "val xy = x flatMap {xi => y map {yi => xi * yi}}  // INCOMPREHENSIBLE\n",
    "// FOR-COMPREHENSION TO RESCUE\n",
    "val xy2 = for {\n",
    "    xi <- x\n",
    "    yi <- y\n",
    "} yield (xi * yi)\n",
    "\n",
    "// MONAD\n",
    "// trait M[T] {\n",
    "//    def map(f: T => S): M[S]\n",
    "//    def flatMap(f: T => M[S]): M[S]\n",
    "// }\n",
    "\n",
    "// COLLECTIONS (ALL SCALA) SUPPORTING MAP & FLATMAP ARE MONADIC"
   ]
  },
  {
   "cell_type": "code",
   "execution_count": null,
   "metadata": {
    "collapsed": true
   },
   "outputs": [],
   "source": []
  }
 ],
 "metadata": {
  "kernelspec": {
   "display_name": "Scala",
   "language": "scala",
   "name": "scala"
  },
  "language_info": {
   "codemirror_mode": "text/x-scala",
   "file_extension": ".scala",
   "mimetype": "text/x-scala",
   "name": "scala211",
   "nbconvert_exporter": "script",
   "pygments_lexer": "scala",
   "version": "2.11.11"
  }
 },
 "nbformat": 4,
 "nbformat_minor": 2
}
